{
 "cells": [
  {
   "cell_type": "markdown",
   "metadata": {},
   "source": [
    "## 1 Introduction\n",
    "Using our Sydney Airbnb listings data, we would like to test out a couple of machine learning (ML) algorithms to see how well we can predict the `price` (a continuous numerical variable) of an accommodation based on its other features. The two algorithms we will be using are **k-nearest neighbours (KNN)** and **linear regression**. We will also go over and implement concepts surrounding **feature engineering** and **k-fold cross validation** into our workflow.\n",
    "\n",
    "Let's import our Airbnb data and the Python packages that we will be using: "
   ]
  },
  {
   "cell_type": "code",
   "execution_count": 8,
   "metadata": {
    "scrolled": true
   },
   "outputs": [
    {
     "data": {
      "text/html": [
       "<div>\n",
       "<style scoped>\n",
       "    .dataframe tbody tr th:only-of-type {\n",
       "        vertical-align: middle;\n",
       "    }\n",
       "\n",
       "    .dataframe tbody tr th {\n",
       "        vertical-align: top;\n",
       "    }\n",
       "\n",
       "    .dataframe thead th {\n",
       "        text-align: right;\n",
       "    }\n",
       "</style>\n",
       "<table border=\"1\" class=\"dataframe\">\n",
       "  <thead>\n",
       "    <tr style=\"text-align: right;\">\n",
       "      <th></th>\n",
       "      <th>listing_url</th>\n",
       "      <th>latitude</th>\n",
       "      <th>longitude</th>\n",
       "      <th>room_type</th>\n",
       "      <th>accommodates</th>\n",
       "      <th>bathrooms</th>\n",
       "      <th>bedrooms</th>\n",
       "      <th>price</th>\n",
       "    </tr>\n",
       "  </thead>\n",
       "  <tbody>\n",
       "    <tr>\n",
       "      <th>0</th>\n",
       "      <td>https://www.airbnb.com/rooms/5098784</td>\n",
       "      <td>-33.59410</td>\n",
       "      <td>151.32180</td>\n",
       "      <td>Entire home/apt</td>\n",
       "      <td>10</td>\n",
       "      <td>3.0</td>\n",
       "      <td>4</td>\n",
       "      <td>1749.0</td>\n",
       "    </tr>\n",
       "    <tr>\n",
       "      <th>1</th>\n",
       "      <td>https://www.airbnb.com/rooms/30905588</td>\n",
       "      <td>-33.64781</td>\n",
       "      <td>151.32421</td>\n",
       "      <td>Entire home/apt</td>\n",
       "      <td>9</td>\n",
       "      <td>4.0</td>\n",
       "      <td>4</td>\n",
       "      <td>1749.0</td>\n",
       "    </tr>\n",
       "    <tr>\n",
       "      <th>2</th>\n",
       "      <td>https://www.airbnb.com/rooms/30905729</td>\n",
       "      <td>-33.63100</td>\n",
       "      <td>151.33632</td>\n",
       "      <td>Entire home/apt</td>\n",
       "      <td>7</td>\n",
       "      <td>3.0</td>\n",
       "      <td>4</td>\n",
       "      <td>1749.0</td>\n",
       "    </tr>\n",
       "    <tr>\n",
       "      <th>3</th>\n",
       "      <td>https://www.airbnb.com/rooms/34907444</td>\n",
       "      <td>-33.60566</td>\n",
       "      <td>151.32985</td>\n",
       "      <td>Entire home/apt</td>\n",
       "      <td>10</td>\n",
       "      <td>4.0</td>\n",
       "      <td>5</td>\n",
       "      <td>1749.0</td>\n",
       "    </tr>\n",
       "    <tr>\n",
       "      <th>4</th>\n",
       "      <td>https://www.airbnb.com/rooms/14191947</td>\n",
       "      <td>-33.96839</td>\n",
       "      <td>151.25268</td>\n",
       "      <td>Entire home/apt</td>\n",
       "      <td>10</td>\n",
       "      <td>2.0</td>\n",
       "      <td>5</td>\n",
       "      <td>1725.0</td>\n",
       "    </tr>\n",
       "  </tbody>\n",
       "</table>\n",
       "</div>"
      ],
      "text/plain": [
       "                             listing_url  latitude  longitude  \\\n",
       "0   https://www.airbnb.com/rooms/5098784 -33.59410  151.32180   \n",
       "1  https://www.airbnb.com/rooms/30905588 -33.64781  151.32421   \n",
       "2  https://www.airbnb.com/rooms/30905729 -33.63100  151.33632   \n",
       "3  https://www.airbnb.com/rooms/34907444 -33.60566  151.32985   \n",
       "4  https://www.airbnb.com/rooms/14191947 -33.96839  151.25268   \n",
       "\n",
       "         room_type  accommodates  bathrooms  bedrooms   price  \n",
       "0  Entire home/apt            10        3.0         4  1749.0  \n",
       "1  Entire home/apt             9        4.0         4  1749.0  \n",
       "2  Entire home/apt             7        3.0         4  1749.0  \n",
       "3  Entire home/apt            10        4.0         5  1749.0  \n",
       "4  Entire home/apt            10        2.0         5  1725.0  "
      ]
     },
     "execution_count": 8,
     "metadata": {},
     "output_type": "execute_result"
    }
   ],
   "source": [
    "from sklearn.model_selection import KFold\n",
    "from sklearn import linear_model, neighbors, metrics\n",
    "import pandas as pd\n",
    "import numpy as np\n",
    "\n",
    "data = pd.read_csv('Airbnb_Listings.csv')\n",
    "data.head()"
   ]
  },
  {
   "cell_type": "markdown",
   "metadata": {},
   "source": [
    "## 2 Feature Engineering and Cross Validation\n",
    "### 2.1 What is Feature Engineering?\n",
    "Feature engineering is the process of transforming the features (variables/attributes) of data by splitting, merging, scaling etc. them to enhance a model's prediction accuracy. We will be transforming our data in multiple different ways before feeding it to our ML algorithms and comparing the accuracy scores of each feature engineering trial.\n",
    "\n",
    "### 2.2 What is k-fold Cross Validation?\n",
    "When going through the ML process, we need to decide how to split up our data into training and testing batches. Generally, we allocate around 80-90% of our data to training and 10-20% to testing. K-fold cross validation allows us to, in a way, use 100% of our data for *both* training and testing. It does this by splitting the data randomly into k folds and running an ML algorithm k times, where a different fold is used for testing each time and the other k-1 folds for training. We will specifically be using 5-fold cross validation (so 80/20 splits on each run). A final evaluation can be done by averaging the results of each run of the ML algorithm."
   ]
  },
  {
   "cell_type": "markdown",
   "metadata": {},
   "source": [
    "## 3 Overview of the ML Process\n",
    "Since we will be using two different ML algorithms, multiple different feature engineered versions of our data, and be performing 5-fold cross validation each time, we need to streamline our ML process as much as possible.\n",
    "\n",
    "To achieve this, we will define a function `produce_model` that takes in two arguments; the feature engineering function to be used (we will get to this soon) and the ML algorithm to be used. The function will then carry out the ML process with 5-fold cross validation after engineering the data as specified, and using the algorithm specified. It will print out the root-mean-square error (RMSE, lower is better) and R^2 scores (higher is better) for each of the 5 runs, and also the mean RMSE and R^2 scores of those runs."
   ]
  },
  {
   "cell_type": "code",
   "execution_count": 32,
   "metadata": {},
   "outputs": [],
   "source": [
    "def produce_model(feature_eng_funct, ML_algorithm):\n",
    "    # split data into 5 folds\n",
    "    kfolds = KFold(n_splits=5, shuffle=True, random_state=17).split(data['price'])\n",
    "    total_rmse = 0; total_r2 = 0\n",
    "    for train_indices, test_indices in kfolds:\n",
    "        # data preparation\n",
    "        X_train = data.loc[train_indices, 'latitude':'bedrooms'] # everything except listing_URL\n",
    "        y_train = data.loc[train_indices, 'price'] # attribute to be predicted\n",
    "        X_test = data.loc[test_indices, 'latitude':'bedrooms']\n",
    "        y_test = data.loc[test_indices, 'price']\n",
    "\n",
    "        # train model after engineering data\n",
    "        model = ML_algorithm.fit(feature_eng_funct(X_train), y_train)\n",
    "\n",
    "        # predictions using engineered test data\n",
    "        y_pred = model.predict(feature_eng_funct(X_test))\n",
    "\n",
    "        # evaluate model\n",
    "        rmse = np.sqrt(metrics.mean_squared_error(y_test, y_pred))\n",
    "        r2 = metrics.r2_score(y_test, y_pred)\n",
    "        print('RMSE:', round(rmse, 3), '\\tR^2:', round(r2, 3))\n",
    "        \n",
    "        total_rmse += rmse; total_r2 += r2\n",
    "    \n",
    "    # aggregated results\n",
    "    print('\\nMean RMSE across 5 folds:', round(total_rmse / 5, 3))\n",
    "    print('Mean R^2 across 5 folds:', round(total_r2 / 5, 3))"
   ]
  },
  {
   "cell_type": "markdown",
   "metadata": {},
   "source": [
    "All we need to do now is figure out the ways that we want to feature engineer our data and encode these as functions to feed into our `produce_model` function. In other words, whenever we want to use the `produce_model` function, we'll need to define how we want to engineer our data via a function. This will become clear in the next section, where we define these engineering functions and use them in producing models."
   ]
  },
  {
   "cell_type": "markdown",
   "metadata": {},
   "source": [
    "## 4 Testing out our ML Models\n",
    "What we learnt when trying out different feature engineering functions is that there are many, many possible ways we can engineer the data before feeding it to an ML algorithm. Due to this, we will only go over some distinct engineering methods we used that we think may be useful to understand.\n",
    "\n",
    "### 4.1 The Baseline Linear Regression\n",
    "Here, we define our first feature engineering function `trial_1` as follows:"
   ]
  },
  {
   "cell_type": "code",
   "execution_count": 6,
   "metadata": {},
   "outputs": [],
   "source": [
    "def trial_1(raw_df):\n",
    "    engineered_df = raw_df[:]\n",
    "    engineered_df = engineered_df.drop(columns=['room_type'])\n",
    "    return engineered_df"
   ]
  },
  {
   "cell_type": "markdown",
   "metadata": {},
   "source": [
    "All it does is retain all columns of the data that have a numerical value and discards the only nominal categorical variable `room_type`. Here's how the function fairs with a linear regression algorithm:"
   ]
  },
  {
   "cell_type": "code",
   "execution_count": 33,
   "metadata": {},
   "outputs": [
    {
     "name": "stdout",
     "output_type": "stream",
     "text": [
      "RMSE: 134.589 \tR^2: 0.5\n",
      "RMSE: 137.978 \tR^2: 0.511\n",
      "RMSE: 128.528 \tR^2: 0.537\n",
      "RMSE: 132.177 \tR^2: 0.499\n",
      "RMSE: 130.824 \tR^2: 0.517\n",
      "\n",
      "Mean RMSE across 5 folds: 132.819\n",
      "Mean R^2 across 5 folds: 0.513\n"
     ]
    }
   ],
   "source": [
    "produce_model(trial_1, linear_model.LinearRegression())"
   ]
  },
  {
   "cell_type": "markdown",
   "metadata": {},
   "source": [
    "### 4.2 Using All Columns\n",
    "The `room_type` column has 4 different categories. A way that we can utilise the `room_type` column is by splitting it into 4 separate columns representing each category, where the column that matches with the `room_type` column for a specified row will contain a 1 and the other three columns will contain a 0."
   ]
  },
  {
   "cell_type": "code",
   "execution_count": 22,
   "metadata": {},
   "outputs": [],
   "source": [
    "def trial_2(raw_df):\n",
    "    engineered_df = raw_df[:]\n",
    "    engineered_df = engineered_df[['room_type', 'accommodates', 'bathrooms', 'bedrooms', 'latitude', 'longitude']]\n",
    "    \n",
    "    for option in data['room_type'].drop_duplicates():\n",
    "        engineered_df[option] = (engineered_df['room_type'] == option)\n",
    "        engineered_df = engineered_df.astype({option: 'int'})\n",
    "        \n",
    "    engineered_df = engineered_df.drop(columns='room_type')\n",
    "    return engineered_df"
   ]
  },
  {
   "cell_type": "markdown",
   "metadata": {},
   "source": [
    "Let's see how this will transform our data before conducting the ML process:"
   ]
  },
  {
   "cell_type": "code",
   "execution_count": 27,
   "metadata": {},
   "outputs": [
    {
     "data": {
      "text/html": [
       "<div>\n",
       "<style scoped>\n",
       "    .dataframe tbody tr th:only-of-type {\n",
       "        vertical-align: middle;\n",
       "    }\n",
       "\n",
       "    .dataframe tbody tr th {\n",
       "        vertical-align: top;\n",
       "    }\n",
       "\n",
       "    .dataframe thead th {\n",
       "        text-align: right;\n",
       "    }\n",
       "</style>\n",
       "<table border=\"1\" class=\"dataframe\">\n",
       "  <thead>\n",
       "    <tr style=\"text-align: right;\">\n",
       "      <th></th>\n",
       "      <th>accommodates</th>\n",
       "      <th>bathrooms</th>\n",
       "      <th>bedrooms</th>\n",
       "      <th>latitude</th>\n",
       "      <th>longitude</th>\n",
       "      <th>Entire home/apt</th>\n",
       "      <th>Hotel room</th>\n",
       "      <th>Private room</th>\n",
       "      <th>Shared room</th>\n",
       "    </tr>\n",
       "  </thead>\n",
       "  <tbody>\n",
       "    <tr>\n",
       "      <th>37505</th>\n",
       "      <td>3</td>\n",
       "      <td>1.0</td>\n",
       "      <td>1</td>\n",
       "      <td>-33.89685</td>\n",
       "      <td>151.26079</td>\n",
       "      <td>0</td>\n",
       "      <td>0</td>\n",
       "      <td>0</td>\n",
       "      <td>1</td>\n",
       "    </tr>\n",
       "    <tr>\n",
       "      <th>37506</th>\n",
       "      <td>2</td>\n",
       "      <td>1.0</td>\n",
       "      <td>1</td>\n",
       "      <td>-33.95530</td>\n",
       "      <td>151.13893</td>\n",
       "      <td>0</td>\n",
       "      <td>0</td>\n",
       "      <td>0</td>\n",
       "      <td>1</td>\n",
       "    </tr>\n",
       "    <tr>\n",
       "      <th>37507</th>\n",
       "      <td>3</td>\n",
       "      <td>1.0</td>\n",
       "      <td>1</td>\n",
       "      <td>-33.96138</td>\n",
       "      <td>151.13860</td>\n",
       "      <td>0</td>\n",
       "      <td>0</td>\n",
       "      <td>1</td>\n",
       "      <td>0</td>\n",
       "    </tr>\n",
       "    <tr>\n",
       "      <th>37508</th>\n",
       "      <td>4</td>\n",
       "      <td>1.0</td>\n",
       "      <td>2</td>\n",
       "      <td>-33.88227</td>\n",
       "      <td>151.19670</td>\n",
       "      <td>1</td>\n",
       "      <td>0</td>\n",
       "      <td>0</td>\n",
       "      <td>0</td>\n",
       "    </tr>\n",
       "    <tr>\n",
       "      <th>37509</th>\n",
       "      <td>4</td>\n",
       "      <td>1.0</td>\n",
       "      <td>2</td>\n",
       "      <td>-33.88744</td>\n",
       "      <td>151.27668</td>\n",
       "      <td>1</td>\n",
       "      <td>0</td>\n",
       "      <td>0</td>\n",
       "      <td>0</td>\n",
       "    </tr>\n",
       "  </tbody>\n",
       "</table>\n",
       "</div>"
      ],
      "text/plain": [
       "       accommodates  bathrooms  bedrooms  latitude  longitude  \\\n",
       "37505             3        1.0         1 -33.89685  151.26079   \n",
       "37506             2        1.0         1 -33.95530  151.13893   \n",
       "37507             3        1.0         1 -33.96138  151.13860   \n",
       "37508             4        1.0         2 -33.88227  151.19670   \n",
       "37509             4        1.0         2 -33.88744  151.27668   \n",
       "\n",
       "       Entire home/apt  Hotel room  Private room  Shared room  \n",
       "37505                0           0             0            1  \n",
       "37506                0           0             0            1  \n",
       "37507                0           0             1            0  \n",
       "37508                1           0             0            0  \n",
       "37509                1           0             0            0  "
      ]
     },
     "execution_count": 27,
     "metadata": {},
     "output_type": "execute_result"
    }
   ],
   "source": [
    "trial_2(data).tail()"
   ]
  },
  {
   "cell_type": "code",
   "execution_count": 25,
   "metadata": {},
   "outputs": [
    {
     "name": "stdout",
     "output_type": "stream",
     "text": [
      "RMSE: 133.016 \tR^2: 0.511\n",
      "RMSE: 136.607 \tR^2: 0.52\n",
      "RMSE: 127.387 \tR^2: 0.545\n",
      "RMSE: 130.815 \tR^2: 0.51\n",
      "RMSE: 129.412 \tR^2: 0.527\n",
      "\n",
      "Mean RMSE across 5 folds: 131.447\n",
      "Mean R^2 across 5 folds: 0.523\n"
     ]
    }
   ],
   "source": [
    "produce_model(trial_2, linear_model.LinearRegression())"
   ]
  },
  {
   "cell_type": "markdown",
   "metadata": {},
   "source": [
    "The results are ever-so slightly better than our baseline model."
   ]
  },
  {
   "cell_type": "markdown",
   "metadata": {},
   "source": [
    "### 4.3 The Best (and most complicated) Attempt\n",
    "This last feature engineering function was created after trying out several previous functions, hence its complexity:"
   ]
  },
  {
   "cell_type": "code",
   "execution_count": 28,
   "metadata": {},
   "outputs": [],
   "source": [
    "def trial_3(raw_df):\n",
    "    engineered_df = raw_df[:]\n",
    "    engineered_df = engineered_df[['room_type', 'accommodates', 'bathrooms', 'bedrooms', 'longitude', 'latitude']]\n",
    "    \n",
    "    for option in data['room_type'].drop_duplicates():\n",
    "        engineered_df[option] = (engineered_df['room_type'] == option)\n",
    "        engineered_df = engineered_df.astype({option: 'int'})\n",
    "\n",
    "    for option in data['bedrooms'].drop_duplicates():\n",
    "        engineered_df['bed' + str(option)] = (engineered_df['bedrooms'] == option)\n",
    "        engineered_df = engineered_df.astype({'bed' + str(option): 'int'})\n",
    "        \n",
    "    for option in data['bathrooms'].drop_duplicates():\n",
    "        engineered_df['bath' + str(option)] = (engineered_df['bathrooms'] == option)\n",
    "        engineered_df = engineered_df.astype({'bath' + str(option): 'int'})\n",
    "        \n",
    "    engineered_df['accommodates'] = np.log(engineered_df['accommodates'])\n",
    "    \n",
    "    city_lat = -33.868322; city_lon = 151.209122\n",
    "    engineered_df['dist_from_city'] = ((engineered_df['latitude'] - city_lat) ** 2 + (engineered_df['longitude'] - city_lon) ** 2) ** 0.5\n",
    "\n",
    "    engineered_df = engineered_df.drop(columns=['room_type', 'bedrooms', 'bathrooms'])\n",
    "    return engineered_df"
   ]
  },
  {
   "cell_type": "markdown",
   "metadata": {},
   "source": [
    "To summarise what it does:\n",
    "- it does what we did for `room_type` earlier, but for the `bedrooms` and `bathrooms` variables too\n",
    "- it takes the logarithm of the `accommodates` variable\n",
    "- it generates a new column based off the `latitude` and `longitude` variables that contains the distances from Sydney city (using Google Maps' lat/lon coords of the city)\n",
    "\n",
    "Below are the results. Although they are better than our other two attempts, they aren't much better:"
   ]
  },
  {
   "cell_type": "code",
   "execution_count": 29,
   "metadata": {
    "scrolled": false
   },
   "outputs": [
    {
     "name": "stdout",
     "output_type": "stream",
     "text": [
      "RMSE: 129.932 \tR^2: 0.534\n",
      "RMSE: 131.99 \tR^2: 0.552\n",
      "RMSE: 122.335 \tR^2: 0.581\n",
      "RMSE: 126.234 \tR^2: 0.543\n",
      "RMSE: 124.151 \tR^2: 0.565\n",
      "\n",
      "Mean RMSE across 5 folds: 126.928\n",
      "Mean R^2 across 5 folds: 0.555\n"
     ]
    }
   ],
   "source": [
    "produce_model(trial_3, linear_model.LinearRegression())"
   ]
  },
  {
   "cell_type": "markdown",
   "metadata": {},
   "source": [
    "### 4.4 The Baseline KNN Model\n",
    "For the KNN algorithm, we need to specify a value for k. We ran the algorithm using our `trial_1` feature engineering function over all values of k between 2 and 100, using the code below. "
   ]
  },
  {
   "cell_type": "code",
   "execution_count": null,
   "metadata": {},
   "outputs": [],
   "source": [
    "for k in range(2,101):\n",
    "    print('Number of neighbours:', k, '\\n')\n",
    "    produce_model(trial_1, neighbors.KNeighborsRegressor(n_neighbors=k))\n",
    "    print('\\n-------------------------------------\\n')"
   ]
  },
  {
   "cell_type": "markdown",
   "metadata": {},
   "source": [
    "The results kept getting better up to k = 23, and then started to degrade. For k = 23, the results are shown below, and they happen to be better than our results from our linear regression attempt in section 4.3!"
   ]
  },
  {
   "cell_type": "code",
   "execution_count": 34,
   "metadata": {},
   "outputs": [
    {
     "name": "stdout",
     "output_type": "stream",
     "text": [
      "RMSE: 126.588 \tR^2: 0.557\n",
      "RMSE: 126.305 \tR^2: 0.59\n",
      "RMSE: 120.178 \tR^2: 0.595\n",
      "RMSE: 121.922 \tR^2: 0.574\n",
      "RMSE: 119.598 \tR^2: 0.596\n",
      "\n",
      "Mean RMSE across 5 folds: 122.918\n",
      "Mean R^2 across 5 folds: 0.583\n"
     ]
    }
   ],
   "source": [
    "produce_model(trial_1, neighbors.KNeighborsRegressor(n_neighbors=23))"
   ]
  },
  {
   "cell_type": "markdown",
   "metadata": {},
   "source": [
    "### 4.5 KNN with trial_3\n",
    "Due to our baseline KNN model beating our best linear regression model, we just had to try using feature engineering function `trial_3` with the KNN algorithm to see how that faired."
   ]
  },
  {
   "cell_type": "code",
   "execution_count": 35,
   "metadata": {},
   "outputs": [
    {
     "name": "stdout",
     "output_type": "stream",
     "text": [
      "RMSE: 123.606 \tR^2: 0.578\n",
      "RMSE: 124.162 \tR^2: 0.604\n",
      "RMSE: 117.205 \tR^2: 0.615\n",
      "RMSE: 119.556 \tR^2: 0.59\n",
      "RMSE: 116.658 \tR^2: 0.616\n",
      "\n",
      "Mean RMSE across 5 folds: 120.237\n",
      "Mean R^2 across 5 folds: 0.601\n"
     ]
    }
   ],
   "source": [
    "produce_model(trial_3, neighbors.KNeighborsRegressor(n_neighbors=23))"
   ]
  },
  {
   "cell_type": "markdown",
   "metadata": {},
   "source": [
    "This attempt happened to be the best out of all of our others, resulting in an RMSE of ~120 and the only R^2 score above 0.6! However, the prediction is still quite poor despite it being the best out of our models, as accommodation prices only range between \\\\\\$4 and \\$1749."
   ]
  },
  {
   "cell_type": "markdown",
   "metadata": {},
   "source": [
    "## 5 Takeaways\n",
    "We learnt many new things about machine learning by trying it out ourselves for the first time.\n",
    "\n",
    "We discovered how complicated the ML process can be. Not only do you have to be able to choose the best model, but plenty of feature engineering and rigorous validation is required before and after the process. There are so many knobs that need to be turned to fine-tune a single model.\n",
    "\n",
    "However in contrast, we found out how streamlined the ML process can be. We were able to combine ML algorithms and cross validation testing into one easy-to-use function, and were also able to modularise the ML process into feature engineering functions and the `produce_model` function. This allowed us to quickly and effortlessly perform ML runs by fitting the functions together like a jigsaw puzzle.\n",
    "\n",
    "The beautiful thing about ML experiments compared to say, an industrial chemical experiment, is that an ML experiment can be repeated with a couple of clicks, has practically no cost, and modifications can be made with ease. A chemical experiment may be costly and difficult to run again, hard to modify, and can even be dangerous."
   ]
  }
 ],
 "metadata": {
  "kernelspec": {
   "display_name": "Python 3",
   "language": "python",
   "name": "python3"
  },
  "language_info": {
   "codemirror_mode": {
    "name": "ipython",
    "version": 3
   },
   "file_extension": ".py",
   "mimetype": "text/x-python",
   "name": "python",
   "nbconvert_exporter": "python",
   "pygments_lexer": "ipython3",
   "version": "3.7.3"
  }
 },
 "nbformat": 4,
 "nbformat_minor": 2
}
